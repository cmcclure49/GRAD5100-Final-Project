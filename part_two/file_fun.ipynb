{
 "cells": [
  {
   "cell_type": "code",
   "execution_count": 38,
   "id": "b44e01d5-9f71-40c6-b605-4d572aa5a91b",
   "metadata": {},
   "outputs": [],
   "source": [
    "import os \n",
    "import shutil\n",
    "\n",
    "#1 \n",
    "#Seperate and join together the parts\n",
    "def extract(code):\n",
    "    parts = code.split('_')\n",
    "    abc = parts[1]\n",
    "    ext = parts[2]\n",
    "    return f\"{abc}.{ext}\"\n",
    "\n",
    "#2\n",
    "# Make the expanded directory\n",
    "expanded_dir = 'expanded'\n",
    "if not os.path.exists(expanded_dir):\n",
    "    os.makedirs(expanded_dir)\n",
    "\n",
    "\n",
    "# Read through files and join lines together\n",
    "with open('codes.txt', 'r') as f:\n",
    "    for line in f:\n",
    "        line = line.strip()\n",
    "        numbers = line.split('_')[0]\n",
    "        together = extract(line)\n",
    "        newfile = os.path.join(expanded_dir, together)\n",
    "        \n",
    "        # Overwriting into the file \n",
    "        with open(newfile, 'w') as out_f:\n",
    "            out_f.write(numbers)\n"
   ]
  }
 ],
 "metadata": {
  "kernelspec": {
   "display_name": "Python 3 (ipykernel)",
   "language": "python",
   "name": "python3"
  },
  "language_info": {
   "codemirror_mode": {
    "name": "ipython",
    "version": 3
   },
   "file_extension": ".py",
   "mimetype": "text/x-python",
   "name": "python",
   "nbconvert_exporter": "python",
   "pygments_lexer": "ipython3",
   "version": "3.9.13"
  }
 },
 "nbformat": 4,
 "nbformat_minor": 5
}
